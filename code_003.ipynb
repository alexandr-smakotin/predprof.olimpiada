{
  "nbformat": 4,
  "nbformat_minor": 0,
  "metadata": {
    "colab": {
      "name": "code_003.ipynb",
      "provenance": []
    },
    "kernelspec": {
      "name": "python3",
      "display_name": "Python 3"
    }
  },
  "cells": [
    {
      "cell_type": "code",
      "metadata": {
        "id": "VpLxHeYKrv_H"
      },
      "source": [
        "# подключение библиотек\r\n",
        "from tensorflow.keras.preprocessing.image import ImageDataGenerator\r\n",
        "from tensorflow.keras.applications import VGG16\r\n",
        "from tensorflow.keras.layers import AveragePooling2D\r\n",
        "from tensorflow.keras.layers import Dropout\r\n",
        "from tensorflow.keras.layers import Flatten\r\n",
        "from tensorflow.keras.layers import Dense\r\n",
        "from tensorflow.keras.layers import Input\r\n",
        "from tensorflow.keras.models import Model\r\n",
        "from tensorflow.keras.optimizers import Adam\r\n",
        "from tensorflow.keras.utils import to_categorical\r\n",
        "from sklearn.preprocessing import LabelBinarizer\r\n",
        "from sklearn.model_selection import train_test_split\r\n",
        "from sklearn.metrics import classification_report\r\n",
        "from sklearn.metrics import confusion_matrix\r\n",
        "from imutils import paths\r\n",
        "import matplotlib.pyplot as plt\r\n",
        "import numpy as np\r\n",
        "import argparse\r\n",
        "import cv2\r\n",
        "import os"
      ],
      "execution_count": null,
      "outputs": []
    },
    {
      "cell_type": "code",
      "metadata": {
        "colab": {
          "base_uri": "https://localhost:8080/"
        },
        "id": "87Jrn7lbtiYK",
        "outputId": "bda78692-6956-48a9-ebce-caae2066f228"
      },
      "source": [
        "from google.colab import drive\r\n",
        "drive.mount('/content/drive')"
      ],
      "execution_count": null,
      "outputs": [
        {
          "output_type": "stream",
          "text": [
            "Mounted at /content/drive\n"
          ],
          "name": "stdout"
        }
      ]
    },
    {
      "cell_type": "code",
      "metadata": {
        "id": "YLVQuBkwsQ-F"
      },
      "source": [
        "# initialize the initial learning rate, number of epochs to train for,\r\n",
        "# and batch size\r\n",
        "INIT_LR = 1e-3\r\n",
        "EPOCHS = 25\r\n",
        "BS = 8"
      ],
      "execution_count": null,
      "outputs": []
    },
    {
      "cell_type": "code",
      "metadata": {
        "id": "y3V_HUAPtdeb"
      },
      "source": [
        "dts = '/content/drive/MyDrive/ШКОЛА/Конкурсы, проекты/ППО кейс Covid-19/dataset/'\r\n",
        "file_plot = '/content/drive/MyDrive/ШКОЛА/Конкурсы, проекты/ППО кейс Covid-19/plot.png'\r\n",
        "file_model = '/content/drive/MyDrive/ШКОЛА/Конкурсы, проекты/ППО кейс Covid-19/covid19.model'"
      ],
      "execution_count": null,
      "outputs": []
    },
    {
      "cell_type": "code",
      "metadata": {
        "id": "TYI_gAk0Jc-4"
      },
      "source": [
        "from google.colab import output"
      ],
      "execution_count": null,
      "outputs": []
    },
    {
      "cell_type": "code",
      "metadata": {
        "id": "sUGcg2UGu3nj",
        "colab": {
          "base_uri": "https://localhost:8080/"
        },
        "outputId": "62c97840-377d-4ce4-a6ea-49c30badf33f"
      },
      "source": [
        "# формирование облегченного учебного датасета из 100 снимков (50+50 изображений)\r\n",
        "\r\n",
        "path_save = '/content/drive/MyDrive/ШКОЛА/Конкурсы, проекты/ППО кейс Covid-19/dataset/'\r\n",
        "fn_X = path_save + 'X.npy'\r\n",
        "X = np.load(fn_X)\r\n",
        "fn_Y = path_save + 'Y.npy'\r\n",
        "Y = np.load(fn_Y)\r\n",
        "indexList = []\r\n",
        "while len(indexList)<100:\r\n",
        "  indexList = []\r\n",
        "  for i in range(50):\r\n",
        "    ind = np.random.randint(3560)\r\n",
        "    if ind not in indexList:\r\n",
        "      indexList.append(ind)\r\n",
        "  for i in range(50):\r\n",
        "    ind = np.random.randint(11000) + 3600\r\n",
        "    if ind not in indexList:\r\n",
        "      indexList.append(ind)  \r\n",
        "\r\n",
        "X_new = np.array([])\r\n",
        "Y_new = []\r\n",
        "k = 0\r\n",
        "for n in indexList:\r\n",
        "  output.clear(); print(k,'%'); k += 1\r\n",
        "  data_m = np.load(X[n])\r\n",
        "  for i in range(data_m.shape[0]):\r\n",
        "    for j in range(data_m.shape[1]):\r\n",
        "      if data_m[i,j] < -2048: data_m[i,j] = -2048\r\n",
        "      if data_m[i,j] > 2048: data_m[i,j] = 2048\r\n",
        "  data_s = np.array([[[0]*3 for i in range(256)] for i in range(256)])\r\n",
        "  for i in range(0,data_m.shape[0],2):\r\n",
        "    for j in range(0,data_m.shape[1],2):\r\n",
        "      c = data_m[i:i+2,j:j+2].max()\r\n",
        "      data_s[i//2,j//2,0] = c\r\n",
        "      data_s[i//2,j//2,1] = c \r\n",
        "      data_s[i//2,j//2,2] = c\r\n",
        "  data_s = (data_s+2048)/4096\r\n",
        "  if X_new.shape[0] == 0:\r\n",
        "    X_new = data_s.reshape(1, 256, 256, 3)\r\n",
        "  else:\r\n",
        "    X_new = np.append(X_new, data_s.reshape(1, 256, 256, 3), axis = 0)\r\n",
        "  Y_new.append(Y[n])\r\n",
        "np.save(path_save+'X_new.npy',X_new)\r\n",
        "np.save(path_save+'Y_new.npy',Y_new)\r\n",
        "Y_new = to_categorical(Y_new)\r\n",
        "print(X_new.shape, Y_new.shape)\r\n"
      ],
      "execution_count": null,
      "outputs": [
        {
          "output_type": "stream",
          "text": [
            "99 %\n",
            "(100, 256, 256, 3) (100, 2)\n"
          ],
          "name": "stdout"
        }
      ]
    },
    {
      "cell_type": "code",
      "metadata": {
        "id": "-Vlj88wXQEwr"
      },
      "source": [
        "(trainX, testX, trainY, testY) = train_test_split(X_new, Y_new,\r\n",
        "\ttest_size=0.20, stratify=Y_new, random_state=42)\r\n",
        "\r\n",
        "trainAug = ImageDataGenerator(\r\n",
        "\trotation_range=15,\r\n",
        "\tfill_mode=\"nearest\")"
      ],
      "execution_count": null,
      "outputs": []
    },
    {
      "cell_type": "code",
      "metadata": {
        "id": "A5iwZnKaGsZd"
      },
      "source": [
        "baseModel = VGG16(weights=\"imagenet\", include_top=False, input_tensor=Input(shape=(256, 256, 3)))\r\n",
        "headModel = baseModel.output\r\n",
        "headModel = AveragePooling2D(pool_size=(4, 4))(headModel)\r\n",
        "headModel = Flatten(name=\"flatten\")(headModel)\r\n",
        "headModel = Dense(64, activation=\"relu\")(headModel)\r\n",
        "headModel = Dropout(0.5)(headModel)\r\n",
        "headModel = Dense(2, activation=\"softmax\")(headModel)\r\n",
        "model = Model(inputs=baseModel.input, outputs=headModel)\r\n",
        "for layer in baseModel.layers:\r\n",
        "\tlayer.trainable = False"
      ],
      "execution_count": null,
      "outputs": []
    },
    {
      "cell_type": "code",
      "metadata": {
        "colab": {
          "base_uri": "https://localhost:8080/"
        },
        "id": "j0iqXt-HPtwp",
        "outputId": "75f8dc9a-5a74-49ad-e6b7-80641c66c67f"
      },
      "source": [
        "# compile our model\r\n",
        "print(\"[INFO] compiling model...\")\r\n",
        "opt = Adam(lr=INIT_LR, decay=INIT_LR / EPOCHS)\r\n",
        "model.compile(loss=\"binary_crossentropy\", optimizer=opt, metrics=[\"accuracy\"])\r\n",
        "# train the head of the network\r\n",
        "print(\"[INFO] training head...\")\r\n",
        "H = model.fit_generator(\r\n",
        "\ttrainAug.flow(trainX, trainY, batch_size=BS),\r\n",
        "\tsteps_per_epoch=len(trainX) // BS,\r\n",
        "\tvalidation_data=(testX, testY),\r\n",
        "\tvalidation_steps=len(testX) // BS,\r\n",
        "\tepochs=EPOCHS)"
      ],
      "execution_count": null,
      "outputs": [
        {
          "output_type": "stream",
          "text": [
            "[INFO] compiling model...\n",
            "[INFO] training head...\n",
            "Epoch 1/25\n"
          ],
          "name": "stdout"
        },
        {
          "output_type": "stream",
          "text": [
            "/usr/local/lib/python3.6/dist-packages/tensorflow/python/keras/engine/training.py:1844: UserWarning: `Model.fit_generator` is deprecated and will be removed in a future version. Please use `Model.fit`, which supports generators.\n",
            "  warnings.warn('`Model.fit_generator` is deprecated and '\n"
          ],
          "name": "stderr"
        },
        {
          "output_type": "stream",
          "text": [
            "10/10 [==============================] - 66s 7s/step - loss: 0.8065 - accuracy: 0.4015 - val_loss: 0.6955 - val_accuracy: 0.5000\n",
            "Epoch 2/25\n",
            "10/10 [==============================] - 66s 7s/step - loss: 0.6906 - accuracy: 0.5632 - val_loss: 0.6881 - val_accuracy: 0.5000\n",
            "Epoch 3/25\n",
            "10/10 [==============================] - 66s 7s/step - loss: 0.7256 - accuracy: 0.5509 - val_loss: 0.6936 - val_accuracy: 0.5000\n",
            "Epoch 4/25\n",
            "10/10 [==============================] - 66s 7s/step - loss: 0.7286 - accuracy: 0.4729 - val_loss: 0.6910 - val_accuracy: 0.5000\n",
            "Epoch 5/25\n",
            "10/10 [==============================] - 65s 7s/step - loss: 0.7205 - accuracy: 0.4840 - val_loss: 0.6868 - val_accuracy: 0.5000\n",
            "Epoch 6/25\n",
            "10/10 [==============================] - 72s 7s/step - loss: 0.6905 - accuracy: 0.5469 - val_loss: 0.6869 - val_accuracy: 0.6500\n",
            "Epoch 7/25\n",
            "10/10 [==============================] - 66s 7s/step - loss: 0.6999 - accuracy: 0.5356 - val_loss: 0.6911 - val_accuracy: 0.5000\n",
            "Epoch 8/25\n",
            "10/10 [==============================] - 67s 7s/step - loss: 0.6897 - accuracy: 0.5456 - val_loss: 0.6885 - val_accuracy: 0.6500\n",
            "Epoch 9/25\n",
            "10/10 [==============================] - 67s 7s/step - loss: 0.7071 - accuracy: 0.4689 - val_loss: 0.6848 - val_accuracy: 0.7000\n",
            "Epoch 10/25\n",
            "10/10 [==============================] - 66s 7s/step - loss: 0.6790 - accuracy: 0.5813 - val_loss: 0.6880 - val_accuracy: 0.5000\n",
            "Epoch 11/25\n",
            "10/10 [==============================] - 66s 7s/step - loss: 0.6816 - accuracy: 0.5654 - val_loss: 0.6882 - val_accuracy: 0.5000\n",
            "Epoch 12/25\n",
            "10/10 [==============================] - 66s 7s/step - loss: 0.6944 - accuracy: 0.5140 - val_loss: 0.6888 - val_accuracy: 0.5000\n",
            "Epoch 13/25\n",
            "10/10 [==============================] - 66s 7s/step - loss: 0.6748 - accuracy: 0.6447 - val_loss: 0.6884 - val_accuracy: 0.5000\n",
            "Epoch 14/25\n",
            "10/10 [==============================] - 67s 7s/step - loss: 0.6770 - accuracy: 0.5573 - val_loss: 0.6860 - val_accuracy: 0.5000\n",
            "Epoch 15/25\n",
            "10/10 [==============================] - 66s 7s/step - loss: 0.7061 - accuracy: 0.4524 - val_loss: 0.6923 - val_accuracy: 0.5000\n",
            "Epoch 16/25\n",
            "10/10 [==============================] - 66s 7s/step - loss: 0.6648 - accuracy: 0.6750 - val_loss: 0.6870 - val_accuracy: 0.5500\n",
            "Epoch 17/25\n",
            "10/10 [==============================] - 66s 7s/step - loss: 0.6665 - accuracy: 0.5806 - val_loss: 0.6864 - val_accuracy: 0.6000\n",
            "Epoch 18/25\n",
            "10/10 [==============================] - 66s 7s/step - loss: 0.6541 - accuracy: 0.6706 - val_loss: 0.6889 - val_accuracy: 0.5000\n",
            "Epoch 19/25\n",
            "10/10 [==============================] - 66s 7s/step - loss: 0.6783 - accuracy: 0.5084 - val_loss: 0.6853 - val_accuracy: 0.5000\n",
            "Epoch 20/25\n",
            "10/10 [==============================] - 66s 7s/step - loss: 0.7118 - accuracy: 0.4458 - val_loss: 0.6869 - val_accuracy: 0.5500\n",
            "Epoch 21/25\n",
            "10/10 [==============================] - 67s 7s/step - loss: 0.6791 - accuracy: 0.5681 - val_loss: 0.6863 - val_accuracy: 0.5000\n",
            "Epoch 22/25\n",
            "10/10 [==============================] - 65s 7s/step - loss: 0.6644 - accuracy: 0.5740 - val_loss: 0.6841 - val_accuracy: 0.6500\n",
            "Epoch 23/25\n",
            "10/10 [==============================] - 65s 7s/step - loss: 0.6538 - accuracy: 0.6284 - val_loss: 0.6907 - val_accuracy: 0.5000\n",
            "Epoch 24/25\n",
            "10/10 [==============================] - 65s 7s/step - loss: 0.6426 - accuracy: 0.6347 - val_loss: 0.6842 - val_accuracy: 0.6000\n",
            "Epoch 25/25\n",
            "10/10 [==============================] - 65s 7s/step - loss: 0.6734 - accuracy: 0.5338 - val_loss: 0.6830 - val_accuracy: 0.5500\n"
          ],
          "name": "stdout"
        }
      ]
    },
    {
      "cell_type": "code",
      "metadata": {
        "colab": {
          "base_uri": "https://localhost:8080/"
        },
        "id": "pvaQR6LsZBS4",
        "outputId": "54b9fb0d-1007-451a-dc8e-f88690061630"
      },
      "source": [
        "print(\"[INFO] evaluating network...\")\r\n",
        "predIdxs = model.predict(testX, batch_size=BS)\r\n",
        "predIdxs = np.argmax(predIdxs, axis=1)\r\n",
        "print(classification_report(testY.argmax(axis=1), predIdxs,\r\n",
        "\ttarget_names=['normal','covid']))\r\n",
        "cm = confusion_matrix(testY.argmax(axis=1), predIdxs)\r\n",
        "total = sum(sum(cm))\r\n",
        "acc = (cm[0, 0] + cm[1, 1]) / total\r\n",
        "sensitivity = cm[0, 0] / (cm[0, 0] + cm[0, 1])\r\n",
        "specificity = cm[1, 1] / (cm[1, 0] + cm[1, 1])\r\n",
        "print(cm)\r\n",
        "print(\"acc: {:.4f}\".format(acc))\r\n",
        "print(\"sensitivity: {:.4f}\".format(sensitivity))\r\n",
        "print(\"specificity: {:.4f}\".format(specificity))"
      ],
      "execution_count": null,
      "outputs": [
        {
          "output_type": "stream",
          "text": [
            "[INFO] evaluating network...\n",
            "              precision    recall  f1-score   support\n",
            "\n",
            "      normal       0.53      0.80      0.64        10\n",
            "       covid       0.60      0.30      0.40        10\n",
            "\n",
            "    accuracy                           0.55        20\n",
            "   macro avg       0.57      0.55      0.52        20\n",
            "weighted avg       0.57      0.55      0.52        20\n",
            "\n",
            "[[8 2]\n",
            " [7 3]]\n",
            "acc: 0.5500\n",
            "sensitivity: 0.8000\n",
            "specificity: 0.3000\n"
          ],
          "name": "stdout"
        }
      ]
    },
    {
      "cell_type": "code",
      "metadata": {
        "colab": {
          "base_uri": "https://localhost:8080/",
          "height": 299
        },
        "id": "9JB2IVZTZOu8",
        "outputId": "44f268ea-a80e-4fb2-8b93-28f27a5664d3"
      },
      "source": [
        "N = EPOCHS\r\n",
        "plt.style.use(\"ggplot\")\r\n",
        "plt.figure()\r\n",
        "plt.plot(np.arange(0, N), H.history[\"loss\"], label=\"train_loss\")\r\n",
        "plt.plot(np.arange(0, N), H.history[\"val_loss\"], label=\"val_loss\")\r\n",
        "plt.plot(np.arange(0, N), H.history[\"accuracy\"], label=\"train_acc\")\r\n",
        "plt.plot(np.arange(0, N), H.history[\"val_accuracy\"], label=\"val_acc\")\r\n",
        "plt.title(\"Training Loss and Accuracy on COVID-19 Dataset\")\r\n",
        "plt.xlabel(\"Epoch #\")\r\n",
        "plt.ylabel(\"Loss/Accuracy\")\r\n",
        "plt.legend(loc=\"lower left\")\r\n",
        "plt.show()"
      ],
      "execution_count": null,
      "outputs": [
        {
          "output_type": "display_data",
          "data": {
            "image/png": "[encoded data removed]",
            "text/plain": [
              "<Figure size 432x288 with 1 Axes>"
            ]
          },
          "metadata": {
            "tags": []
          }
        }
      ]
    }
  ]
}